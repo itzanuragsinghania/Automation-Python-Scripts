{
 "cells": [
  {
   "cell_type": "code",
   "execution_count": null,
   "metadata": {},
   "outputs": [],
   "source": [
    "from pytube import YouTube\n",
    "\n",
    "yt = YouTube('https://www.youtube.com/watch?v=ocMuWNN3u7w')\n",
    "# print(yt.streams.all()) "
    "#all returns all tag we need t change if we need a particular type i.e <itag>\n",
    "\n"
   ]
  },
  {
   "cell_type": "code",
   "execution_count": null,
   "metadata": {},
   "outputs": [],
   "source": [
    "dw = yt.streams.get_by_itag(22)\n",
    "dw.download('/home/blank/Music')"
   ]
  },
  {
   "cell_type": "markdown",
   "metadata": {},
   "source": [
    "2 downloading multiple files from  a list of links\n"
   ]
  },
  {
   "cell_type": "code",
   "execution_count": null,
   "metadata": {},
   "outputs": [],
   "source": [
    "# making a list of available links to download\n",
    "from pytube import YouTube\n",
    "video_links = ['https://www.youtube.com/watch?v=Db1fj2pRFu8','https://www.youtube.com/watch?v=8OkpRK2_gVs']\n",
    "for i in video_links:\n",
    "    yt = YouTube(i)\n",
    "    dw = yt.streams.first()\n",
    "    dw.download('/home/blank/Music/list')\n",
    "    print(f'Downloaded : {i}')"
   ]
  },
  {
   "cell_type": "markdown",
   "metadata": {},
   "source": [
    "3 downloading multiple files from a txt file 'aot openings'"
   ]
  },
  {
   "cell_type": "code",
   "execution_count": null,
   "metadata": {},
   "outputs": [],
   "source": [
    "from pytube import YouTube\n",
    "\n",
    "video_links = open('aot openings.txt','r')\n",
    "\n",
    "for i in video_links:\n",
    "    yt = YouTube(i)\n",
    "    dw = yt.streams.first()  # here we use first instead of get_by_itag bcoz first gives the highest available\n",
    "                             # quality of the youtube coz in some case all videos may not have same itag\n",
    "    dw.download('/home/blank/Music/using text file')\n",
    "    print(f'Downloaded : {i}')"
   ]
  },
  {
   "cell_type": "markdown",
   "metadata": {},
   "source": [
    "4 USing try and exceot for get_by tag\n"
   ]
  },
  {
   "cell_type": "code",
   "execution_count": null,
   "metadata": {},
   "outputs": [],
   "source": [
    "from pytube import YouTube\n",
    "\n",
    "video_links = open('openings.txt','r')\n",
    "\n",
    "for i in video_links:\n",
    "    yt = YouTube(i)\n",
    "    try:\n",
    "        dw = yt.streams.get_by_itag(22)  # here we use first instead of get_by_itag bcoz first gives the highest available\n",
    "                                 # quality of the youtube coz in some case all videos may not have same itag\n",
    "        dw.download('/home/blank/Music/using text file')\n",
    "        print(f'Downloaded : {i}')\n",
    "    except:\n",
    "        print(f'Download failed for {i}')"
   ]
  },
  {
   "cell_type": "markdown",
   "metadata": {},
   "source": [
    "5. Downloading playlist"
   ]
  },
  {
   "cell_type": "code",
   "execution_count": null,
   "metadata": {},
   "outputs": [],
   "source": [
    "from pytube import Playlist\n",
    "playlist = Playlist('https://www.youtube.com/playlist?list=PLRfY4Rc-GWzhdCvSPR7aTV0PJjjiSAGMs')\n",
    "print('Number of videos in playlist: %s' % len(playlist.video_urls))\n",
    "\n",
    "# Loop through all videos in the playlist and download them\n",
    "for video in playlist.videos:\n",
    "    video.streams.first().download('/home/blank/Music/Playlist')"
   ]
  },
  {
   "cell_type": "code",
   "execution_count": null,
   "metadata": {},
   "outputs": [],
   "source": [
    "# Decreasing code lines and downloading playlist\n",
    "# there is a Playlist function instead of youtube to download playlist\n",
    "from pytube import Playlist\n",
    "pytube.Playlist('https://www.youtube.com/playlist?list=PL1ijyCK-X0rbuurwBT1SFDISdfkgihYDt').download_all('/home/blank/Music')\n",
    "# the download_all is showing attribute error for the Playlist module\n",
    "\n",
    "# pytube.Playlist('https://www.youtube.com/playlist?list=PL1ijyCK-X0rbuurwBT1SFDISdfkgihYDt').streams().first().download('/home/blank/Music/Playlist')"
   ]
  },
  {
   "cell_type": "code",
   "execution_count": null,
   "metadata": {},
   "outputs": [],
   "source": []
  }
 ],
 "metadata": {
  "kernelspec": {
   "display_name": "Python 3",
   "language": "python",
   "name": "python3"
  },
  "language_info": {
   "codemirror_mode": {
    "name": "ipython",
    "version": 3
   },
   "file_extension": ".py",
   "mimetype": "text/x-python",
   "name": "python",
   "nbconvert_exporter": "python",
   "pygments_lexer": "ipython3",
   "version": "3.9.2"
  }
 },
 "nbformat": 4,
 "nbformat_minor": 4
}
